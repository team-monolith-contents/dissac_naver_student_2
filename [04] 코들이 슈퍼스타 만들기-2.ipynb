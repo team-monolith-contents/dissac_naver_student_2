{
 "cells": [
  {
   "cell_type": "markdown",
   "id": "2159f47a-d20f-468e-9598-01f020401a98",
   "metadata": {
    "deletable": false,
    "editable": false,
    "tags": []
   },
   "source": [
    "<div style=\"padding: 15px; border: 5px solid transparent; border-color: transparent; margin-bottom: 20px; border-radius: 4px; color: #3c763d; background-color: #dff0d8; border-color: #d6e9c6; font-weight: bold;\">\n",
    "    <br><br>\n",
    "    <div style=\"font-weight: bold; font-size: 40px\">나도 슈퍼스타!</div>\n",
    "    <div style=\"font-weight: bold; font-size: 20px\">[04] 코들이 슈퍼스타 만들기-2</div>\n",
    "    <hr style=\"width:80%;text-align:left;margin-left:0;border:0.5px solid green\">\n",
    "    <학습 순서>\n",
    "    <br>\n",
    "    - 네이버의 음악 서비스 네이버 바이브의 데이터를 탐색하여 연령대별, 계절별로 어떤 음악이 인기가 많은지 알아봅시다.<br>\n",
    "    - 네이버 바이브 데이터의 분석 결과를 창의적으로 해석해봅시다.<br>\n",
    "    - 인기 음악 분석 결과를 바탕으로 오디션 음악을 선정해주는 프로그램을 만들어봅시다.<br>\n",
    "</div>\n"
   ]
  },
  {
   "cell_type": "markdown",
   "id": "71e97663-985a-4c33-90a1-e479643ee2bb",
   "metadata": {
    "deletable": false,
    "editable": false,
    "tags": []
   },
   "source": [
    "<div style=\"padding: 15px; border: 5px solid transparent; border-color: transparent; margin-bottom: 20px; border-radius: 4px; color: #3c763d; border-color: #d6e9c6; font-weight: bold;\">\n",
    "<h2 style='font-weight: bold'>1. 계절별 인기 음악 플레이어 만들기(이어서)</h2>\n",
    "</div> "
   ]
  },
  {
   "cell_type": "markdown",
   "id": "312c1039-7a74-445f-ad91-ff6a8e723c92",
   "metadata": {
    "deletable": false,
    "editable": false
   },
   "source": [
    "아까 봄, 여름, 가을, 겨울이 장면을 만들어두었죠? 각 장면에서 코들이가 인기 음악을 고르고 그 음악을 알려주는 프로그램을 만들어볼 거예요."
   ]
  },
  {
   "cell_type": "code",
   "execution_count": 1,
   "id": "9d31f297-1913-451a-8bd4-f6419fa944ba",
   "metadata": {
    "error_code": "import pandas as pd  # Pandas를 pd로 축약하여 불러옵니다\nimport matplotlib.pyplot as plt  # Pyplot을 plt로 축약하여 불러옵니다\nfrom CodleProject import superstar",
    "tags": []
   },
   "outputs": [],
   "source": [
    "import pandas as pd  # Pandas를 pd로 축약하여 불러옵니다\n",
    "import matplotlib.pyplot as plt  # Pyplot을 plt로 축약하여 불러옵니다\n",
    "from CodleProject import superstar"
   ]
  },
  {
   "cell_type": "code",
   "execution_count": 2,
   "id": "c99f8f62-9943-4eae-a0a6-dbe4b0a5fe8a",
   "metadata": {
    "error_code": "df = pd.read_excel('네이버 VIBE 장르별 재생 수.xlsx')",
    "tags": []
   },
   "outputs": [],
   "source": [
    "df = pd.read_excel('https://tmn-bucket-materials-all.s3.ap-northeast-2.amazonaws.com/data/%EB%84%A4%EC%9D%B4%EB%B2%84+VIBE+%EC%9E%A5%EB%A5%B4%EB%B3%84+%EC%9E%AC%EC%83%9D+%EC%88%98.xlsx')"
   ]
  },
  {
   "cell_type": "code",
   "execution_count": 3,
   "id": "54392b9a-037f-4037-b5d1-62081a3abdbb",
   "metadata": {
    "error_code": "계절 = ['봄', '여름', '가을', '겨울']",
    "tags": []
   },
   "outputs": [],
   "source": [
    "계절 = ['봄', '여름', '가을', '겨울']"
   ]
  },
  {
   "cell_type": "code",
   "execution_count": 4,
   "id": "d75635e5-3b29-4ec7-9c19-ebf180d3a386",
   "metadata": {
    "error_code": "def start():\n    scene = superstar()\n    print('슈퍼스타 N 결승에 오게 되었어!')\n    print('지금 계절에 맞는 인기 있는 노래를 부르자')\n    \n    answer = input('지금은 무슨 계절이니?')\n    \n    while True:\n        if answer == 계절[0]:\n            장면 = scene.show('봄')\n            break\n        if answer == 계절[1]:\n            장면 = scene.show('여름')\n            break\n        if answer == 계절[2]:\n            장면 = scene.show('가을')\n            break\n        if answer == 계절[3]:\n            장면 = scene.show('겨울')\n            break\n        else:\n            answer = input('지금은 무슨 계절이니?')\n            \n    return answer, 장면",
    "tags": []
   },
   "outputs": [],
   "source": [
    "def start():\n",
    "    scene = superstar()\n",
    "    print('슈퍼스타 N 결승에 오게 되었어!')\n",
    "    print('지금 계절에 맞는 인기 있는 노래를 부르자')\n",
    "    \n",
    "    answer = input('지금은 무슨 계절이니?')\n",
    "    \n",
    "    while True:\n",
    "        if answer == 계절[0]:\n",
    "            장면 = scene.show('봄')\n",
    "            break\n",
    "        elif answer == 계절[1]:\n",
    "            장면 = scene.show('여름')\n",
    "            break\n",
    "        elif answer == 계절[2]:\n",
    "            장면 = scene.show('가을')\n",
    "            break\n",
    "        elif answer == 계절[3]:\n",
    "            장면 = scene.show('겨울')\n",
    "            break\n",
    "        else:\n",
    "            answer = input('지금은 무슨 계절이니?')\n",
    "            \n",
    "    return answer, 장면"
   ]
  },
  {
   "cell_type": "markdown",
   "id": "4712dd6d-d818-49c3-a301-a3cf30fd9039",
   "metadata": {
    "deletable": false,
    "editable": false
   },
   "source": [
    "### **<STEP 4> 계절별 인기 음악 선택하기**"
   ]
  },
  {
   "cell_type": "markdown",
   "id": "92fa367d-1f7b-4365-b854-ae308d3ed106",
   "metadata": {
    "deletable": false,
    "editable": false
   },
   "source": [
    "1) ‘봄 장면’을 선생님과 함께 만들어봅시다. 먼저 여러 장면 중 봄 장면을 선택해보세요.  \n",
    "\n"
   ]
  },
  {
   "cell_type": "code",
   "execution_count": 5,
   "id": "5f5ec8ba-be00-4dd9-b491-d98e0b669135",
   "metadata": {
    "error_code": "season, scn = start()",
    "tags": []
   },
   "outputs": [
    {
     "name": "stdout",
     "output_type": "stream",
     "text": [
      "슈퍼스타 N 결승에 오게 되었어!\n",
      "지금 계절에 맞는 인기 있는 노래를 부르자\n"
     ]
    },
    {
     "name": "stdin",
     "output_type": "stream",
     "text": [
      "지금은 무슨 계절이니? 여름\n"
     ]
    },
    {
     "data": {
      "application/vnd.jupyter.widget-view+json": {
       "model_id": "5a30a0e595a248e68517970d9567ad85",
       "version_major": 2,
       "version_minor": 0
      },
      "text/plain": [
       "Canvas(height=300, width=600)"
      ]
     },
     "metadata": {},
     "output_type": "display_data"
    }
   ],
   "source": [
    "season, scn = start()"
   ]
  },
  {
   "cell_type": "markdown",
   "id": "c44be4f5-2d19-45cc-a5e6-8f9267b7b874",
   "metadata": {
    "deletable": false,
    "editable": false
   },
   "source": [
    "2) 장면이 시작되면 코들이가 ‘봄에는 사람들이 어떤 음악을 들을까?’, ‘2019년 봄(3월)에 가장 인기 있는 음악은 무엇이었니?’를 말하게 만들어보세요.  "
   ]
  },
  {
   "cell_type": "code",
   "execution_count": 6,
   "id": "861b0b6c-7cd5-408e-a2d8-c25d6d2ef3b6",
   "metadata": {
    "error_code": "def scene_start(season):\n    scene = superstar()\n    scene.show(season) # 장면을 출력하기 위한 부분입니다. \n    print('봄에는 사람들이 어떤 음악을 들을까?')\n    print('2019년 봄(3월)에 가장 인기 있는 음악은 무엇이었니?')",
    "tags": []
   },
   "outputs": [],
   "source": [
    "# 주어진 조건에 맞는 함수를 작성해봅시다.\n",
    "'''\n",
    "    - 함수명: scene_start\n",
    "    - 인자: 계절 정보\n",
    "    - 함수 내부 코드\n",
    "        - scene 변수에 장면 출력 클래스 저장\n",
    "        - 게절에 맞는 장면 출력\n",
    "        - 멘트 출력\n",
    "'''\n",
    "\n"
   ]
  },
  {
   "cell_type": "markdown",
   "id": "d4ff879c-9b17-4ed5-a4d7-9771f828e4e1",
   "metadata": {
    "deletable": false,
    "editable": false
   },
   "source": [
    "3) 그런데 2019년 3월에 가장 인기 있는 음악의 장르를 알기 위해서는 데이터가 필요하겠죠?  \n",
    "이전 시간 코드에서 불러왔던 데이터를 다시 출력해봅시다."
   ]
  },
  {
   "cell_type": "code",
   "execution_count": 7,
   "id": "0b0044fa-1047-4dea-a0bd-763c65e7a33b",
   "metadata": {
    "error_code": "df",
    "tags": []
   },
   "outputs": [
    {
     "data": {
      "text/html": [
       "<div>\n",
       "<style scoped>\n",
       "    .dataframe tbody tr th:only-of-type {\n",
       "        vertical-align: middle;\n",
       "    }\n",
       "\n",
       "    .dataframe tbody tr th {\n",
       "        vertical-align: top;\n",
       "    }\n",
       "\n",
       "    .dataframe thead th {\n",
       "        text-align: right;\n",
       "    }\n",
       "</style>\n",
       "<table border=\"1\" class=\"dataframe\">\n",
       "  <thead>\n",
       "    <tr style=\"text-align: right;\">\n",
       "      <th></th>\n",
       "      <th>월</th>\n",
       "      <th>발라드</th>\n",
       "      <th>댄스</th>\n",
       "      <th>힙합</th>\n",
       "      <th>팝</th>\n",
       "      <th>락</th>\n",
       "      <th>캐롤</th>\n",
       "      <th>합계</th>\n",
       "    </tr>\n",
       "  </thead>\n",
       "  <tbody>\n",
       "    <tr>\n",
       "      <th>0</th>\n",
       "      <td>2019-01</td>\n",
       "      <td>4580340</td>\n",
       "      <td>3506013</td>\n",
       "      <td>2530997</td>\n",
       "      <td>1781670</td>\n",
       "      <td>433264</td>\n",
       "      <td>0</td>\n",
       "      <td>12832284</td>\n",
       "    </tr>\n",
       "    <tr>\n",
       "      <th>1</th>\n",
       "      <td>2019-02</td>\n",
       "      <td>5983086</td>\n",
       "      <td>5039213</td>\n",
       "      <td>3306147</td>\n",
       "      <td>2441981</td>\n",
       "      <td>563172</td>\n",
       "      <td>0</td>\n",
       "      <td>17333599</td>\n",
       "    </tr>\n",
       "    <tr>\n",
       "      <th>2</th>\n",
       "      <td>2019-03</td>\n",
       "      <td>7930240</td>\n",
       "      <td>6968901</td>\n",
       "      <td>5153241</td>\n",
       "      <td>3041281</td>\n",
       "      <td>2296628</td>\n",
       "      <td>0</td>\n",
       "      <td>25390291</td>\n",
       "    </tr>\n",
       "    <tr>\n",
       "      <th>3</th>\n",
       "      <td>2019-04</td>\n",
       "      <td>14700171</td>\n",
       "      <td>17289767</td>\n",
       "      <td>6208220</td>\n",
       "      <td>6488231</td>\n",
       "      <td>2541564</td>\n",
       "      <td>0</td>\n",
       "      <td>47227953</td>\n",
       "    </tr>\n",
       "    <tr>\n",
       "      <th>4</th>\n",
       "      <td>2019-05</td>\n",
       "      <td>14190101</td>\n",
       "      <td>18188894</td>\n",
       "      <td>6447376</td>\n",
       "      <td>6440902</td>\n",
       "      <td>2444351</td>\n",
       "      <td>0</td>\n",
       "      <td>47711624</td>\n",
       "    </tr>\n",
       "    <tr>\n",
       "      <th>5</th>\n",
       "      <td>2019-06</td>\n",
       "      <td>12654122</td>\n",
       "      <td>13172189</td>\n",
       "      <td>5232155</td>\n",
       "      <td>6014894</td>\n",
       "      <td>1164560</td>\n",
       "      <td>0</td>\n",
       "      <td>38237920</td>\n",
       "    </tr>\n",
       "    <tr>\n",
       "      <th>6</th>\n",
       "      <td>2019-07</td>\n",
       "      <td>10796347</td>\n",
       "      <td>11106577</td>\n",
       "      <td>6280753</td>\n",
       "      <td>7027246</td>\n",
       "      <td>1193829</td>\n",
       "      <td>0</td>\n",
       "      <td>36404752</td>\n",
       "    </tr>\n",
       "    <tr>\n",
       "      <th>7</th>\n",
       "      <td>2019-08</td>\n",
       "      <td>11164315</td>\n",
       "      <td>9920786</td>\n",
       "      <td>6034153</td>\n",
       "      <td>6296636</td>\n",
       "      <td>940801</td>\n",
       "      <td>0</td>\n",
       "      <td>34356691</td>\n",
       "    </tr>\n",
       "    <tr>\n",
       "      <th>8</th>\n",
       "      <td>2019-09</td>\n",
       "      <td>12817607</td>\n",
       "      <td>9089189</td>\n",
       "      <td>6217664</td>\n",
       "      <td>5947186</td>\n",
       "      <td>1963010</td>\n",
       "      <td>0</td>\n",
       "      <td>36034656</td>\n",
       "    </tr>\n",
       "    <tr>\n",
       "      <th>9</th>\n",
       "      <td>2019-10</td>\n",
       "      <td>13698109</td>\n",
       "      <td>10993654</td>\n",
       "      <td>6905381</td>\n",
       "      <td>4656590</td>\n",
       "      <td>5908256</td>\n",
       "      <td>84619</td>\n",
       "      <td>42246609</td>\n",
       "    </tr>\n",
       "    <tr>\n",
       "      <th>10</th>\n",
       "      <td>2019-11</td>\n",
       "      <td>14737404</td>\n",
       "      <td>11373791</td>\n",
       "      <td>7293055</td>\n",
       "      <td>6093062</td>\n",
       "      <td>5899834</td>\n",
       "      <td>257110</td>\n",
       "      <td>45654256</td>\n",
       "    </tr>\n",
       "    <tr>\n",
       "      <th>11</th>\n",
       "      <td>2019-12</td>\n",
       "      <td>14564714</td>\n",
       "      <td>11576156</td>\n",
       "      <td>8853884</td>\n",
       "      <td>6405432</td>\n",
       "      <td>4932374</td>\n",
       "      <td>521156</td>\n",
       "      <td>46853716</td>\n",
       "    </tr>\n",
       "  </tbody>\n",
       "</table>\n",
       "</div>"
      ],
      "text/plain": [
       "          월       발라드        댄스       힙합        팝        락      캐롤        합계\n",
       "0   2019-01   4580340   3506013  2530997  1781670   433264       0  12832284\n",
       "1   2019-02   5983086   5039213  3306147  2441981   563172       0  17333599\n",
       "2   2019-03   7930240   6968901  5153241  3041281  2296628       0  25390291\n",
       "3   2019-04  14700171  17289767  6208220  6488231  2541564       0  47227953\n",
       "4   2019-05  14190101  18188894  6447376  6440902  2444351       0  47711624\n",
       "5   2019-06  12654122  13172189  5232155  6014894  1164560       0  38237920\n",
       "6   2019-07  10796347  11106577  6280753  7027246  1193829       0  36404752\n",
       "7   2019-08  11164315   9920786  6034153  6296636   940801       0  34356691\n",
       "8   2019-09  12817607   9089189  6217664  5947186  1963010       0  36034656\n",
       "9   2019-10  13698109  10993654  6905381  4656590  5908256   84619  42246609\n",
       "10  2019-11  14737404  11373791  7293055  6093062  5899834  257110  45654256\n",
       "11  2019-12  14564714  11576156  8853884  6405432  4932374  521156  46853716"
      ]
     },
     "execution_count": 7,
     "metadata": {},
     "output_type": "execute_result"
    }
   ],
   "source": [
    "df"
   ]
  },
  {
   "cell_type": "markdown",
   "id": "075ca364-86f4-47db-895d-852ea5b9e951",
   "metadata": {
    "deletable": false,
    "editable": false
   },
   "source": [
    "4) 데이터에서 ‘2019년 봄(3월)에 가장 인기 있는 음악은 무엇이었니?'라는 질문의 답을 찾기 위해선   \n",
    "'월' 열의 값이'2019-03'인 행에서 값이 최대인 장르를 찾으면 됩니다.  \n",
    "먼저 '월' 열의 값이'2019-03'인 행을 따로 저장해봅시다."
   ]
  },
  {
   "cell_type": "code",
   "execution_count": 8,
   "id": "3c24680d-a71e-4992-8c75-51c603127658",
   "metadata": {
    "error_code": "y2019_m03 = df[df['월']=='2019-03']\ny2019_m03",
    "tags": []
   },
   "outputs": [
    {
     "data": {
      "text/html": [
       "<div>\n",
       "<style scoped>\n",
       "    .dataframe tbody tr th:only-of-type {\n",
       "        vertical-align: middle;\n",
       "    }\n",
       "\n",
       "    .dataframe tbody tr th {\n",
       "        vertical-align: top;\n",
       "    }\n",
       "\n",
       "    .dataframe thead th {\n",
       "        text-align: right;\n",
       "    }\n",
       "</style>\n",
       "<table border=\"1\" class=\"dataframe\">\n",
       "  <thead>\n",
       "    <tr style=\"text-align: right;\">\n",
       "      <th></th>\n",
       "      <th>월</th>\n",
       "      <th>발라드</th>\n",
       "      <th>댄스</th>\n",
       "      <th>힙합</th>\n",
       "      <th>팝</th>\n",
       "      <th>락</th>\n",
       "      <th>캐롤</th>\n",
       "      <th>합계</th>\n",
       "    </tr>\n",
       "  </thead>\n",
       "  <tbody>\n",
       "    <tr>\n",
       "      <th>2</th>\n",
       "      <td>2019-03</td>\n",
       "      <td>7930240</td>\n",
       "      <td>6968901</td>\n",
       "      <td>5153241</td>\n",
       "      <td>3041281</td>\n",
       "      <td>2296628</td>\n",
       "      <td>0</td>\n",
       "      <td>25390291</td>\n",
       "    </tr>\n",
       "  </tbody>\n",
       "</table>\n",
       "</div>"
      ],
      "text/plain": [
       "         월      발라드       댄스       힙합        팝        락  캐롤        합계\n",
       "2  2019-03  7930240  6968901  5153241  3041281  2296628   0  25390291"
      ]
     },
     "execution_count": 8,
     "metadata": {},
     "output_type": "execute_result"
    }
   ],
   "source": [
    "# 월이 2019-03인 행을 y2019_m03 변수에 따로 저장해봅시다.\n"
   ]
  },
  {
   "cell_type": "markdown",
   "id": "c0e4e360-7eab-453e-a4b3-a7ddaf5833bc",
   "metadata": {
    "deletable": false,
    "editable": false
   },
   "source": [
    "5) '월' 열의 값이'2019-03'인 행에서 재생수가 최대인 장르를 찾아 'favor' 변수에 저장합니다.   \n",
    "`df.idxmax(axis=1)` 함수는 각 행의 최댓값이 있는 열의 이름을 반환합니다."
   ]
  },
  {
   "cell_type": "code",
   "execution_count": 9,
   "id": "a9111b3f-decb-4278-ab59-30a93c14bf66",
   "metadata": {
    "error_code": "favor = y2019_m03[['발라드', '댄스', '힙합', '팝', '락', '캐롤']].idxmax(axis=1)\nfavor",
    "tags": []
   },
   "outputs": [
    {
     "data": {
      "text/plain": [
       "2    발라드\n",
       "dtype: object"
      ]
     },
     "execution_count": 9,
     "metadata": {},
     "output_type": "execute_result"
    }
   ],
   "source": [
    "# 월이 2019-03인 행에서 재생수가 최대인 장르를 찾아 favor 변수에 저장해봅시다.\n"
   ]
  },
  {
   "cell_type": "markdown",
   "id": "8de7ad20-0fdd-4149-9e29-8faecfb3d7e7",
   "metadata": {
    "deletable": false,
    "editable": false
   },
   "source": [
    "6) 아까 만들던 `scene_start()` 함수 내부에서 가장 인기 있는 음악을 찾도록 코드를 작성해봅시다. "
   ]
  },
  {
   "cell_type": "code",
   "execution_count": 10,
   "id": "77565df3-739c-4666-af0f-754117444203",
   "metadata": {
    "error_code": "def scene_start(season, df):\n    scene = superstar()\n    scene.show(season) # 장면을 출력하기 위한 부분입니다. \n    print('봄에는 사람들이 어떤 음악을 들을까?')\n    print('2019년 봄(3월)에 가장 인기 있는 음악은 무엇이었니?')\n    \n    d1903 = df[df['월']=='2019-03']\n    favor = d1903[['발라드', '댄스', '힙합', '팝', '락', '캐롤']].idxmax(axis=1)\n    print(favor)",
    "tags": []
   },
   "outputs": [],
   "source": [
    "# scene_start 함수에서 가장 인기 있는 음악을 찾도록 코드를 수정해봅시다.\n",
    "'''\n",
    "    - 인자: 계절값, 관련 데이터 프레임\n",
    "'''\n",
    "def scene_start(season, df):\n",
    "    scene = superstar()\n",
    "    scene.show(season) # 장면을 출력하기 위한 부분입니다. \n",
    "    print('봄에는 사람들이 어떤 음악을 들을까?')\n",
    "    print('2019년 봄(3월)에 가장 인기 있는 음악은 무엇이었니?')\n",
    "    \n",
    "    #######하단에 코드를 작성하세요######\n",
    "    \n",
    "    "
   ]
  },
  {
   "cell_type": "code",
   "execution_count": 11,
   "id": "82c92365-9829-458e-b9cd-8a2a535c8b66",
   "metadata": {
    "error_code": "scene_start(season, df)",
    "tags": []
   },
   "outputs": [
    {
     "data": {
      "application/vnd.jupyter.widget-view+json": {
       "model_id": "2ee4faf6c97e43ceb0a6451eba29126e",
       "version_major": 2,
       "version_minor": 0
      },
      "text/plain": [
       "Canvas(height=300, width=600)"
      ]
     },
     "metadata": {},
     "output_type": "display_data"
    },
    {
     "name": "stdout",
     "output_type": "stream",
     "text": [
      "봄에는 사람들이 어떤 음악을 들을까?\n",
      "2019년 봄(3월)에 가장 인기 있는 음악은 무엇이었니?\n",
      "2    발라드\n",
      "dtype: object\n"
     ]
    }
   ],
   "source": [
    "scene_start(season, df)"
   ]
  },
  {
   "cell_type": "markdown",
   "id": "e02f98b0-a004-4469-bba0-5a306151a837",
   "metadata": {
    "deletable": false,
    "editable": false
   },
   "source": [
    "### **<STEP 5> 계절별 인기 음악 플레이어 만들기**"
   ]
  },
  {
   "cell_type": "markdown",
   "id": "265325bf-447f-45ef-8632-33714d023db5",
   "metadata": {
    "deletable": false,
    "editable": false
   },
   "source": [
    "인기 음악을 맞혔다면 이번에는 그 장르의 음악이 나타나도록 플레이어를 만들어보겠습니다.\n",
    "\n",
    "1) 일단 음악을 플레이할 건지 사용자의 의사를 물어봐야겠죠?  \n",
    "`input()` 함수 프롬프트에 '재생하려면 yes, 재생하지 않으려면 no를 입력해주세요'를 작성하고, 입력값을 answer에 저장합시다. "
   ]
  },
  {
   "cell_type": "code",
   "execution_count": 12,
   "id": "c9595045-e29f-4dc8-841e-d76860d809c8",
   "metadata": {
    "error_code": "def scene_start(season, df):\n    scene = superstar()\n    scene.show(season) # 장면을 출력하기 위한 부분입니다. \n    print('봄에는 사람들이 어떤 음악을 들을까?')\n    print('2019년 봄(3월)에 가장 인기 있는 음악은 무엇이었니?')\n    \n    d1903 = df[df['월']=='2019-03']\n    favor = d1903[['발라드', '댄스', '힙합', '팝', '락', '캐롤']].idxmax(axis=1)\n    print(favor)\n    \n    answer = input('재생하려면 yes, 재생하지 않으려면 no를 입력해주세요')\n"
   },
   "outputs": [],
   "source": [
    "# 함수 내부에서 음악 재생 여부를 입력받아 봅시다. \n",
    "def scene_start(season, df):\n",
    "    scene = superstar()\n",
    "    scene.show(season) # 장면을 출력하기 위한 부분입니다. \n",
    "    print('봄에는 사람들이 어떤 음악을 들을까?')\n",
    "    print('2019년 봄(3월)에 가장 인기 있는 음악은 무엇이었니?')\n",
    "    \n",
    "    d1903 = df[df['월']=='2019-03']\n",
    "    favor = d1903[['발라드', '댄스', '힙합', '팝', '락', '캐롤']].idxmax(axis=1)\n",
    "    print(favor)\n",
    "    \n",
    "    #######하단에 코드를 작성하세요######\n",
    "    \n",
    "    "
   ]
  },
  {
   "cell_type": "markdown",
   "id": "4efc6351-7c63-4c11-83f4-2de5edbafdd6",
   "metadata": {
    "deletable": false,
    "editable": false
   },
   "source": [
    "2) 조건문을 사용해 answer가 yes인 경우 재생할 노래 제목을 출력해봅시다.  \n",
    "노래 제목은 원하는 노래로 설정해봅시다. "
   ]
  },
  {
   "cell_type": "code",
   "execution_count": 13,
   "id": "113025dc-c340-46a2-be4b-361b0db8a020",
   "metadata": {
    "error_code": "def scene_start(season, df):\n    scene = superstar()\n    scene.show(season) # 장면을 출력하기 위한 부분입니다. \n    \n    print('봄에는 사람들이 어떤 음악을 들을까?')\n    print('2019년 봄(3월)에 가장 인기 있는 음악은 무엇이었니?')\n    \n    d1903 = df[df['월']=='2019-03']\n    favor = d1903[['발라드', '댄스', '힙합', '팝', '락', '캐롤']].idxmax(axis=1)\n    print(favor)\n    \n    answer = input('재생하려면 yes, 재생하지 않으려면 no를 입력해주세요')\n    \n    if answer == 'yes':\n        print('노래제목') # 여기 노래 제목을 바꾸면 됩니다.\n        scene = superstar()\n        scene.show(season, song_title = '노래제목') # 여기 노래 제목을 바꾸면 됩니다.",
    "tags": []
   },
   "outputs": [],
   "source": [
    "# 노래 재생을 원할 경우 재생할 노래 제목을 출력하는 코드를 작성해봅시다.\n",
    "def scene_start(season, df):\n",
    "    scene = superstar()\n",
    "    scene.show(season) # 장면을 출력하기 위한 부분입니다. \n",
    "    \n",
    "    print('봄에는 사람들이 어떤 음악을 들을까?')\n",
    "    print('2019년 봄(3월)에 가장 인기 있는 음악은 무엇이었니?')\n",
    "    \n",
    "    d1903 = df[df['월']=='2019-03']\n",
    "    favor = d1903[['발라드', '댄스', '힙합', '팝', '락', '캐롤']].idxmax(axis=1)\n",
    "    print(favor)\n",
    "    \n",
    "    answer = input('재생하려면 yes, 재생하지 않으려면 no를 입력해주세요')\n",
    "    \n",
    "    #######하단에 코드를 작성하세요######\n",
    "    \n",
    "    "
   ]
  },
  {
   "cell_type": "code",
   "execution_count": 14,
   "id": "6004c07e-4fa9-4f71-951f-bf3da6a8fc68",
   "metadata": {
    "error_code": "scene_start(season, df)",
    "tags": []
   },
   "outputs": [
    {
     "data": {
      "application/vnd.jupyter.widget-view+json": {
       "model_id": "3f5c9c86851f4f39b6057a968c559a25",
       "version_major": 2,
       "version_minor": 0
      },
      "text/plain": [
       "Canvas(height=300, width=600)"
      ]
     },
     "metadata": {},
     "output_type": "display_data"
    },
    {
     "name": "stdout",
     "output_type": "stream",
     "text": [
      "봄에는 사람들이 어떤 음악을 들을까?\n",
      "2019년 봄(3월)에 가장 인기 있는 음악은 무엇이었니?\n",
      "2    발라드\n",
      "dtype: object\n"
     ]
    },
    {
     "name": "stdin",
     "output_type": "stream",
     "text": [
      "재생하려면 yes, 재생하지 않으려면 no를 입력해주세요 yes\n"
     ]
    },
    {
     "name": "stdout",
     "output_type": "stream",
     "text": [
      "노래제목\n"
     ]
    }
   ],
   "source": [
    "scene_start(season, df)"
   ]
  },
  {
   "cell_type": "markdown",
   "id": "4985cc34-ad9f-425e-a201-bd6e710e6c60",
   "metadata": {
    "deletable": false,
    "editable": false
   },
   "source": [
    "<div style=\"padding: 15px; border: 5px solid transparent; border-color: transparent; margin-bottom: 20px; border-radius: 4px; color: #8a6d3b;  border-color: #faebcc; font-weight: bold;\">\n",
    "    <div style=\"font-weight: bold; font-size: 20px\">✏️ 워크 시트 1</div>\n",
    "    <br>\n",
    "※ 프로그램에 관해 이야기해봅시다.  <br>\n",
    "    이번 시간에 만든 작품은 파이썬의 어떤 데이터 분석 기능을 사용하였나요?\n",
    "    \n",
    "</div>"
   ]
  },
  {
   "cell_type": "raw",
   "id": "ec896c40-d516-4767-9089-f072e8126a54",
   "metadata": {},
   "source": [
    " 👉 \n"
   ]
  },
  {
   "cell_type": "markdown",
   "id": "709493c1-a1aa-4798-a943-63be4c88974a",
   "metadata": {
    "deletable": false,
    "editable": false
   },
   "source": [
    "<div style=\"padding: 15px; border: 5px solid transparent; border-color: transparent; margin-bottom: 20px; border-radius: 4px; color: #8a6d3b;  border-color: #faebcc; font-weight: bold;\">\n",
    "    <div style=\"font-weight: bold; font-size: 20px\">✏️ 워크 시트 2</div>\n",
    "    <br>\n",
    "※ 나만의 프로그램을 생각해봅시다.  <br>\n",
    "바이브 데이터와 오늘 배운 데이터 분석 기능을 활용해서 다른 프로그램을 만들어본다면 어떤 프로그\n",
    "램을 만들 수 있을까요?\n",
    "</div>"
   ]
  },
  {
   "cell_type": "raw",
   "id": "d417d4a3-9f94-48da-ab51-06f7e9d27539",
   "metadata": {},
   "source": [
    " 👉 \n"
   ]
  },
  {
   "cell_type": "markdown",
   "id": "e62e7848-1011-4b16-b4aa-af9115b17088",
   "metadata": {
    "deletable": false,
    "editable": false,
    "tags": []
   },
   "source": [
    "<div style=\"padding: 15px; border: 5px solid transparent; border-color: transparent; margin-bottom: 20px; border-radius: 4px; color: #3c763d; border-color: #d6e9c6; font-weight: bold;\">\n",
    "<h2 style='font-weight: bold'>2. 내가 만든 프로그램을 친구들과 공유하기</h2>\n",
    "</div> "
   ]
  },
  {
   "cell_type": "markdown",
   "id": "95513f48-37ec-4696-96ec-a714597d1237",
   "metadata": {
    "deletable": false,
    "editable": false
   },
   "source": [
    "코들이가 계절에 맞게 인기 있는 노래를 불러서 슈퍼스타가 될 수 있도록 도와줬어요. 이렇게 데이터를 사용하  \n",
    "면 여러분도 슈퍼스타가 될 수 있겠죠?  \n",
    "자신의 작품을 친구들과 공유하고 발표해봅시다."
   ]
  },
  {
   "cell_type": "markdown",
   "id": "bb1992db-669f-4913-b918-904abecbe39a",
   "metadata": {
    "deletable": false,
    "editable": false
   },
   "source": [
    "<div style=\"padding: 15px; border: 5px solid transparent; border-color: transparent; margin-bottom: 20px; border-radius: 4px; color: #8a6d3b;  border-color: #faebcc; font-weight: bold;\">\n",
    "    <div style=\"font-weight: bold; font-size: 20px\">⭐ 동료 평가</div>\n",
    "    <br>\n",
    "다른 친구들이 만든 프로그램의 장점을 적어봅시다.\n",
    "</div>"
   ]
  },
  {
   "cell_type": "raw",
   "id": "3e3960c6-9ac4-4b0c-bf1e-3e37f82c4a11",
   "metadata": {},
   "source": [
    " 👉 \n"
   ]
  }
 ],
 "metadata": {
  "kernelspec": {
   "display_name": "Python 3 (ipykernel)",
   "language": "python",
   "name": "python3"
  },
  "language_info": {
   "codemirror_mode": {
    "name": "ipython",
    "version": 3
   },
   "file_extension": ".py",
   "mimetype": "text/x-python",
   "name": "python",
   "nbconvert_exporter": "python",
   "pygments_lexer": "ipython3",
   "version": "3.10.13"
  },
  "read_only": true
 },
 "nbformat": 4,
 "nbformat_minor": 5
}
